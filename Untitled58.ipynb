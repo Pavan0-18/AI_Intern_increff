{
  "nbformat": 4,
  "nbformat_minor": 0,
  "metadata": {
    "colab": {
      "provenance": []
    },
    "kernelspec": {
      "name": "python3",
      "display_name": "Python 3"
    },
    "language_info": {
      "name": "python"
    }
  },
  "cells": [
    {
      "cell_type": "code",
      "execution_count": 33,
      "metadata": {
        "id": "aOYHaZy1Shda"
      },
      "outputs": [],
      "source": [
        "\n",
        "import json\n",
        "import numpy as np\n",
        "from transformers import pipeline\n",
        "import matplotlib.pyplot as plt\n",
        "import logging\n",
        "from IPython.display import display\n"
      ]
    },
    {
      "cell_type": "code",
      "source": [
        "\n",
        "logging.basicConfig(level=logging.INFO)\n",
        "logger = logging.getLogger(__name__)\n",
        "\n",
        "distilbert_classifier = pipeline(\"text-classification\", model=\"distilbert-base-uncased-finetuned-sst-2-english\")\n"
      ],
      "metadata": {
        "colab": {
          "base_uri": "https://localhost:8080/"
        },
        "id": "9zHGbkjXUAQ9",
        "outputId": "5e958957-ca1e-4454-bc30-9197c2ecb588"
      },
      "execution_count": 34,
      "outputs": [
        {
          "output_type": "stream",
          "name": "stderr",
          "text": [
            "Device set to use cpu\n"
          ]
        }
      ]
    },
    {
      "cell_type": "code",
      "source": [
        "faq_data = '''\n",
        "{\n",
        "    \"general\":{\n",
        "        \"Hi\":\"Hello\",\n",
        "        \"Good morning\":\"Good morning\",\n",
        "        \"Good afternoon\":\"Good afternoon\"\n",
        "  },\n",
        "    \"specifications\": {\n",
        "        \"What are the specs of the latest smartphone?\": \"Our latest smartphone features a 6.7-inch OLED display, 128GB storage, 8GB RAM, 48MP camera, and 5G support.\",\n",
        "        \"What are the laptop specifications?\": \"Our latest laptop has a 16-inch Retina display, 16GB RAM, 512GB SSD, Intel i7 processor, and 12-hour battery life.\",\n",
        "        \"What is the camera resolution of the new phone?\": \"The new smartphone has a 48MP main camera and a 12MP front camera.\"\n",
        "    },\n",
        "    \"orders\": {\n",
        "        \"How can I track my order?\": \"You can track your order using the tracking link sent to your email or by logging into your account on our website.\",\n",
        "        \"Where is my order?\": \"Please provide your order number, and I can check the status for you.\",\n",
        "        \"How long does shipping take?\": \"Standard shipping takes 3-5 business days; expedited shipping takes 1-2 days.\"\n",
        "    },\n",
        "    \"returns\": {\n",
        "        \"What is the return policy?\": \"We offer a 30-day return policy for unused items in original packaging. Contact support to initiate a return.\",\n",
        "        \"Can I return an opened product?\": \"Opened products may be returned within 30 days if defective, but a restocking fee may apply.\"\n",
        "    },\n",
        "    \"payment\": {\n",
        "        \"What payment methods are available?\": \"We accept credit/debit cards, PayPal, bank transfers, and Apple Pay.\",\n",
        "        \"Do you offer installment payments?\": \"Yes, we offer installment plans via Klarna and Afterpay for eligible purchases.\"\n",
        "    },\n",
        "    \"warranty\": {\n",
        "        \"What is the warranty on products?\": \"All products come with a 1-year limited warranty covering manufacturing defects.\",\n",
        "        \"How do I claim warranty?\": \"Contact support with your order number and issue details to start a warranty claim.\"\n",
        "    },\n",
        "    \"promotions\": {\n",
        "        \"Are there any discounts available?\": \"Current promotions include 10% off smartphones with code SAVE10 and free shipping on orders over $100.\",\n",
        "        \"How do I apply a promo code?\": \"Enter the promo code at checkout on our website to apply the discount.\"\n",
        "    },\n",
        "    \"support\": {\n",
        "        \"How do I contact customer support?\": \"Reach us at support@gadgets.com or call 1-800-555-1234, Mon-Fri, 9 AM-5 PM.\",\n",
        "        \"What are your support hours?\": \"Our support team is available Monday to Friday, 9 AM to 5 PM EST.\"\n",
        "    }\n",
        "}\n",
        "'''"
      ],
      "metadata": {
        "id": "Ch5z6r3TUO82"
      },
      "execution_count": 47,
      "outputs": []
    },
    {
      "cell_type": "code",
      "source": [
        "\n",
        "def load_faqs():\n",
        "    return json.loads(faq_data)\n"
      ],
      "metadata": {
        "id": "jZebtUs1Wx8R"
      },
      "execution_count": 36,
      "outputs": []
    },
    {
      "cell_type": "code",
      "source": [
        "class CustomerSupportBot:\n",
        "    def __init__(self, model_name, classifier=None, generative_model=None, tokenizer=None):\n",
        "        self.faqs = load_faqs()\n",
        "        self.conversation_history = []\n",
        "        self.max_history = 3\n",
        "        self.model_name = model_name\n",
        "        self.classifier = classifier\n",
        "        self.generative_model = generative_model\n",
        "        self.tokenizer = tokenizer\n",
        "        self.confidence_threshold = 0.7\n",
        "\n",
        "    def classify_intent(self, query):\n",
        "        \"\"\"Classify the user query to a FAQ category.\"\"\"\n",
        "        if not self.classifier:\n",
        "            return None, None, 0\n",
        "        scores = {}\n",
        "        for category, qa_pairs in self.faqs.items():\n",
        "            for question in qa_pairs.keys():\n",
        "                input_text = f\"Query: {query} FAQ: {question}\"\n",
        "                result = self.classifier(input_text)\n",
        "                score = result[0]['score'] if result[0]['label'] == 'POSITIVE' else 1 - result[0]['score']\n",
        "                scores[(category, question)] = score\n",
        "        if not scores:\n",
        "            return None, None, 0\n",
        "        best_match = max(scores, key=scores.get)\n",
        "        return best_match[0], best_match[1], scores[best_match]\n",
        "\n",
        "    def get_generative_response(self, user_input, context):\n",
        "        \"\"\"Generate a response using distilgpt2.\"\"\"\n",
        "        prompt = f\"\"\"\n",
        "        You are a customer support chatbot for an electronics company. Use the following FAQ data to answer queries:\n",
        "        {json.dumps(self.faqs, indent=2)}\n",
        "\n",
        "        Conversation history:\n",
        "        {context}\n",
        "\n",
        "        User query: {user_input}\n",
        "\n",
        "        Provide an accurate, concise response. If the query matches an FAQ, use the exact answer. If unclear or not in FAQs, provide a helpful response or ask for clarification. Escalate to support@gadgets.com if needed.\n",
        "        \"\"\"\n",
        "        inputs = self.tokenizer(prompt, return_tensors=\"pt\", max_length=512, truncation=True)\n",
        "        outputs = self.generative_model.generate(**inputs, max_new_tokens=150, temperature=0.7)\n",
        "        response = self.tokenizer.decode(outputs[0], skip_special_tokens=True)\n",
        "        return response.strip().split(\"User query:\")[1].strip() if \"User query:\" in response else response.strip()\n",
        "\n",
        "    def get_response(self, user_input):\n",
        "        \"\"\"Generate a response based on user input and conversation context.\"\"\"\n",
        "        logger.info(f\"Processing user input for {self.model_name}: {user_input}\")\n",
        "        self.conversation_history.append({\"role\": \"user\", \"content\": user_input})\n",
        "        context = \" \".join([f\"{turn['role']}: {turn['content']}\" for turn in self.conversation_history[-self.max_history:]])\n",
        "\n",
        "        if self.classifier:\n",
        "            category, question, confidence = self.classify_intent(user_input)\n",
        "            if confidence > self.confidence_threshold:\n",
        "                response = self.faqs[category][question]\n",
        "            else:\n",
        "                response = self.get_generative_response(user_input, context) if self.model_name == \"distilgpt2\" else \\\n",
        "                           \"I'm sorry, I didn't understand your question. Could you clarify or ask something else? Contact support@gadgets.com if needed.\"\n",
        "        else:\n",
        "            response = self.get_generative_response(user_input, context)\n",
        "\n",
        "        self.conversation_history.append({\"role\": \"bot\", \"content\": response})\n",
        "        logger.info(f\"{self.model_name} response: {response}\")\n",
        "        return response\n",
        "\n",
        "    def reset_history(self):\n",
        "        \"\"\"Reset conversation history.\"\"\"\n",
        "        self.conversation_history = []"
      ],
      "metadata": {
        "id": "Di5ejihnW7Cp"
      },
      "execution_count": 37,
      "outputs": []
    },
    {
      "cell_type": "code",
      "source": [
        "def run_chatbot():\n",
        "    bot = CustomerSupportBot()\n",
        "    print(\"Welcome to the Customer Support Chatbot! Type 'exit' to quit.\")\n",
        "\n",
        "    while True:\n",
        "        user_input = input(\"You: \")\n",
        "        if user_input.lower() == 'exit':\n",
        "            print(\"Goodbye!\")\n",
        "            break\n",
        "        response = bot.get_response(user_input)\n",
        "        print(f\"Bot: {response}\")\n",
        "\n",
        "plot_conversation_flow()"
      ],
      "metadata": {
        "colab": {
          "base_uri": "https://localhost:8080/",
          "height": 564
        },
        "id": "eSSif8euXDlE",
        "outputId": "e46009c9-d8d9-4b94-8d9c-9738cfba5401"
      },
      "execution_count": 39,
      "outputs": [
        {
          "output_type": "display_data",
          "data": {
            "text/plain": [
              "<Figure size 1000x600 with 1 Axes>"
            ],
            "image/png": "[encoded data removed]"
          },
          "metadata": {}
        }
      ]
    },
    {
      "cell_type": "code",
      "source": [
        "distilbert_bot = CustomerSupportBot(model_name=\"DistilBERT\", classifier=distilbert_classifier)\n",
        "\n",
        "print(\"=== DistilBERT Chatbot ===\")\n",
        "print(\"Welcome to the DistilBERT Customer Support Chatbot! Type 'exit' to quit.\")\n",
        "\n",
        "while True:\n",
        "    user_input = input(\"You: \")\n",
        "    if user_input.lower() == 'exit':\n",
        "        print(\"Goodbye from DistilBERT!\")\n",
        "        break\n",
        "    response = distilbert_bot.get_response(user_input)\n",
        "    print(f\"DistilBERT Bot: {response}\")"
      ],
      "metadata": {
        "colab": {
          "base_uri": "https://localhost:8080/"
        },
        "id": "8Ite8hzCbvxi",
        "outputId": "cfd6a3b8-a417-479d-d5f0-07163a0d39f2"
      },
      "execution_count": 41,
      "outputs": [
        {
          "output_type": "stream",
          "name": "stdout",
          "text": [
            "=== DistilBERT Chatbot ===\n",
            "Welcome to the DistilBERT Customer Support Chatbot! Type 'exit' to quit.\n",
            "You: exit\n",
            "Goodbye from DistilBERT!\n"
          ]
        }
      ]
    },
    {
      "cell_type": "code",
      "source": [
        "roberta_bot = CustomerSupportBot(model_name=\"RoBERTa\", classifier=roberta_classifier)\n",
        "\n",
        "print(\"=== RoBERTa Chatbot ===\")\n",
        "print(\"Welcome to the RoBERTa Customer Support Chatbot! Type 'exit' to quit.\")\n",
        "\n",
        "while True:\n",
        "    user_input = input(\"You: \")\n",
        "    if user_input.lower() == 'exit':\n",
        "        print(\"Goodbye from RoBERTa!\")\n",
        "        break\n",
        "    response = roberta_bot.get_response(user_input)\n",
        "    print(f\"RoBERTa Bot: {response}\")"
      ],
      "metadata": {
        "colab": {
          "base_uri": "https://localhost:8080/"
        },
        "id": "rLSpfvY7cEcK",
        "outputId": "ffaab841-6b3c-4a07-8ccf-3f8b734880af"
      },
      "execution_count": 46,
      "outputs": [
        {
          "output_type": "stream",
          "name": "stdout",
          "text": [
            "=== RoBERTa Chatbot ===\n",
            "Welcome to the RoBERTa Customer Support Chatbot! Type 'exit' to quit.\n",
            "You: hi\n",
            "RoBERTa Bot: I'm sorry, I didn't understand your question. Could you clarify or ask something else? Contact support@gadgets.com if needed.\n",
            "You: exit\n",
            "Goodbye from RoBERTa!\n"
          ]
        }
      ]
    },
    {
      "cell_type": "code",
      "source": [
        "from transformers import AutoTokenizer, AutoModelForCausalLM"
      ],
      "metadata": {
        "id": "RXbLbDPcaVZp"
      },
      "execution_count": 43,
      "outputs": []
    },
    {
      "cell_type": "code",
      "source": [
        "model_name = \"distilgpt2\"\n",
        "tokenizer = AutoTokenizer.from_pretrained(model_name)\n",
        "grok_model = AutoModelForCausalLM.from_pretrained(model_name)"
      ],
      "metadata": {
        "id": "x9j-fLByUirb"
      },
      "execution_count": 44,
      "outputs": []
    },
    {
      "cell_type": "code",
      "source": [
        "\n",
        "grok_bot = CustomerSupportBot(model_name=\"distilgpt2\", generative_model=grok_model, tokenizer=tokenizer)\n",
        "\n",
        "print(\"=== distilgpt2 Chatbot ===\")\n",
        "print(\"Welcome to the distilgpt2 Customer Support Chatbot! Type 'exit' to quit.\")\n",
        "\n",
        "while True:\n",
        "    user_input = input(\"You: \")\n",
        "    if user_input.lower() == 'exit':\n",
        "        print(\"Goodbye from distilgpt2!\")\n",
        "        break\n",
        "    response = grok_bot.get_response(user_input)\n",
        "    print(f\"distilgpt2 Bot: {response}\")"
      ],
      "metadata": {
        "colab": {
          "base_uri": "https://localhost:8080/"
        },
        "id": "_PJ2b9g3aD4Q",
        "outputId": "4eec4ff3-0b51-460a-fae7-52fff6cf11b6"
      },
      "execution_count": 45,
      "outputs": [
        {
          "name": "stdout",
          "output_type": "stream",
          "text": [
            "=== distilgpt2 Chatbot ===\n",
            "Welcome to the distilgpt2 Customer Support Chatbot! Type 'exit' to quit.\n",
            "You: hi\n"
          ]
        },
        {
          "output_type": "stream",
          "name": "stderr",
          "text": [
            "/usr/local/lib/python3.11/dist-packages/transformers/generation/configuration_utils.py:631: UserWarning: `do_sample` is set to `False`. However, `temperature` is set to `0.7` -- this flag is only used in sample-based generation modes. You should set `do_sample=True` or unset `temperature`.\n",
            "  warnings.warn(\n",
            "Setting `pad_token_id` to `eos_token_id`:50256 for open-end generation.\n"
          ]
        },
        {
          "name": "stdout",
          "output_type": "stream",
          "text": [
            "distilgpt2 Bot: You are a customer support chatbot for an electronics company. Use the following FAQ data to answer queries:\n",
            "        {\n",
            "  \"specifications\": {\n",
            "    \"What are the specs of the latest smartphone?\": \"Our latest smartphone features a 6.7-inch OLED display, 128GB storage, 8GB RAM, 48MP camera, and 5G support.\",\n",
            "    \"What are the laptop specifications?\": \"Our latest laptop has a 16-inch Retina display, 16GB RAM, 512GB SSD, Intel i7 processor, and 12-hour battery life.\",\n",
            "    \"What is the camera resolution of the new phone?\": \"The new smartphone has a 48MP main camera and a 12MP front camera.\"\n",
            "  },\n",
            "  \"orders\": {\n",
            "    \"How can I track my order?\": \"You can track your order using the tracking link sent to your email or by logging into your account on our website.\",\n",
            "    \"Where is my order?\": \"Please provide your order number, and I can check the status for you.\",\n",
            "    \"How long does shipping take?\": \"Standard shipping takes 3-5 business days; expedited shipping takes 1-2 days.\"\n",
            "  },\n",
            "  \"returns\": {\n",
            "    \"What is the return policy?\": \"We offer a 30-day return policy for unused items in original packaging. Contact support to initiate a return.\",\n",
            "    \"Can I return an opened product?\": \"Opened products may be returned within 30 days if defective, but a restocking fee may apply.\"\n",
            "  },\n",
            "  \"payment\": {\n",
            "    \"What payment methods are available?\": \"We accept credit/debit cards, PayPal, bank transfers, and Apple Pay.\",\n",
            "    \"Do you offer installment payments?\": \"Yes, we offer installment plans via Klarna and Afterpay for eligible purchases.\"\n",
            "  },\n",
            "  \"warranty\": {\n",
            "    \"What is the warranty on products?\": \"All products come with a 1-year limited warranty covering manufacturing defects.\",\n",
            "    \"How do I claim warranty?\": \"Contact support with your order number and issue details to start a warranty claim.\"\n",
            "  },\n",
            "  \"promotions\": {\n",
            "    \"Are there any discounts available?\": \"Current promotions are available only for the first 3 months of the contract. If you have any questions about the offer, please contact support@larna.com.\n",
            "You: helo\n"
          ]
        },
        {
          "output_type": "stream",
          "name": "stderr",
          "text": [
            "Setting `pad_token_id` to `eos_token_id`:50256 for open-end generation.\n"
          ]
        },
        {
          "name": "stdout",
          "output_type": "stream",
          "text": [
            "distilgpt2 Bot: You are a customer support chatbot for an electronics company. Use the following FAQ data to answer queries:\n",
            "        {\n",
            "  \"specifications\": {\n",
            "    \"What are the specs of the latest smartphone?\": \"Our latest smartphone features a 6.7-inch OLED display, 128GB storage, 8GB RAM, 48MP camera, and 5G support.\",\n",
            "    \"What are the laptop specifications?\": \"Our latest laptop has a 16-inch Retina display, 16GB RAM, 512GB SSD, Intel i7 processor, and 12-hour battery life.\",\n",
            "    \"What is the camera resolution of the new phone?\": \"The new smartphone has a 48MP main camera and a 12MP front camera.\"\n",
            "  },\n",
            "  \"orders\": {\n",
            "    \"How can I track my order?\": \"You can track your order using the tracking link sent to your email or by logging into your account on our website.\",\n",
            "    \"Where is my order?\": \"Please provide your order number, and I can check the status for you.\",\n",
            "    \"How long does shipping take?\": \"Standard shipping takes 3-5 business days; expedited shipping takes 1-2 days.\"\n",
            "  },\n",
            "  \"returns\": {\n",
            "    \"What is the return policy?\": \"We offer a 30-day return policy for unused items in original packaging. Contact support to initiate a return.\",\n",
            "    \"Can I return an opened product?\": \"Opened products may be returned within 30 days if defective, but a restocking fee may apply.\"\n",
            "  },\n",
            "  \"payment\": {\n",
            "    \"What payment methods are available?\": \"We accept credit/debit cards, PayPal, bank transfers, and Apple Pay.\",\n",
            "    \"Do you offer installment payments?\": \"Yes, we offer installment plans via Klarna and Afterpay for eligible purchases.\"\n",
            "  },\n",
            "  \"warranty\": {\n",
            "    \"What is the warranty on products?\": \"All products come with a 1-year limited warranty covering manufacturing defects.\",\n",
            "    \"How do I claim warranty?\": \"Contact support with your order number and issue details to start a warranty claim.\"\n",
            "  },\n",
            "  \"promotions\": {\n",
            "    \"Are there any discounts available?\": \"Current promotions are available only for the first 3 months of the contract. If you have any questions about the offer, please contact support@larna.com.\n",
            "You: are there any discoyunts\n"
          ]
        },
        {
          "output_type": "stream",
          "name": "stderr",
          "text": [
            "Setting `pad_token_id` to `eos_token_id`:50256 for open-end generation.\n"
          ]
        },
        {
          "name": "stdout",
          "output_type": "stream",
          "text": [
            "distilgpt2 Bot: You are a customer support chatbot for an electronics company. Use the following FAQ data to answer queries:\n",
            "        {\n",
            "  \"specifications\": {\n",
            "    \"What are the specs of the latest smartphone?\": \"Our latest smartphone features a 6.7-inch OLED display, 128GB storage, 8GB RAM, 48MP camera, and 5G support.\",\n",
            "    \"What are the laptop specifications?\": \"Our latest laptop has a 16-inch Retina display, 16GB RAM, 512GB SSD, Intel i7 processor, and 12-hour battery life.\",\n",
            "    \"What is the camera resolution of the new phone?\": \"The new smartphone has a 48MP main camera and a 12MP front camera.\"\n",
            "  },\n",
            "  \"orders\": {\n",
            "    \"How can I track my order?\": \"You can track your order using the tracking link sent to your email or by logging into your account on our website.\",\n",
            "    \"Where is my order?\": \"Please provide your order number, and I can check the status for you.\",\n",
            "    \"How long does shipping take?\": \"Standard shipping takes 3-5 business days; expedited shipping takes 1-2 days.\"\n",
            "  },\n",
            "  \"returns\": {\n",
            "    \"What is the return policy?\": \"We offer a 30-day return policy for unused items in original packaging. Contact support to initiate a return.\",\n",
            "    \"Can I return an opened product?\": \"Opened products may be returned within 30 days if defective, but a restocking fee may apply.\"\n",
            "  },\n",
            "  \"payment\": {\n",
            "    \"What payment methods are available?\": \"We accept credit/debit cards, PayPal, bank transfers, and Apple Pay.\",\n",
            "    \"Do you offer installment payments?\": \"Yes, we offer installment plans via Klarna and Afterpay for eligible purchases.\"\n",
            "  },\n",
            "  \"warranty\": {\n",
            "    \"What is the warranty on products?\": \"All products come with a 1-year limited warranty covering manufacturing defects.\",\n",
            "    \"How do I claim warranty?\": \"Contact support with your order number and issue details to start a warranty claim.\"\n",
            "  },\n",
            "  \"promotions\": {\n",
            "    \"Are there any discounts available?\": \"Current promotions are available only for the first 3 months of the contract. If you have any questions about the offer, please contact support@larna.com.\n",
            "You: How do I claim warranty?\n"
          ]
        },
        {
          "output_type": "stream",
          "name": "stderr",
          "text": [
            "Setting `pad_token_id` to `eos_token_id`:50256 for open-end generation.\n"
          ]
        },
        {
          "output_type": "stream",
          "name": "stdout",
          "text": [
            "distilgpt2 Bot: You are a customer support chatbot for an electronics company. Use the following FAQ data to answer queries:\n",
            "        {\n",
            "  \"specifications\": {\n",
            "    \"What are the specs of the latest smartphone?\": \"Our latest smartphone features a 6.7-inch OLED display, 128GB storage, 8GB RAM, 48MP camera, and 5G support.\",\n",
            "    \"What are the laptop specifications?\": \"Our latest laptop has a 16-inch Retina display, 16GB RAM, 512GB SSD, Intel i7 processor, and 12-hour battery life.\",\n",
            "    \"What is the camera resolution of the new phone?\": \"The new smartphone has a 48MP main camera and a 12MP front camera.\"\n",
            "  },\n",
            "  \"orders\": {\n",
            "    \"How can I track my order?\": \"You can track your order using the tracking link sent to your email or by logging into your account on our website.\",\n",
            "    \"Where is my order?\": \"Please provide your order number, and I can check the status for you.\",\n",
            "    \"How long does shipping take?\": \"Standard shipping takes 3-5 business days; expedited shipping takes 1-2 days.\"\n",
            "  },\n",
            "  \"returns\": {\n",
            "    \"What is the return policy?\": \"We offer a 30-day return policy for unused items in original packaging. Contact support to initiate a return.\",\n",
            "    \"Can I return an opened product?\": \"Opened products may be returned within 30 days if defective, but a restocking fee may apply.\"\n",
            "  },\n",
            "  \"payment\": {\n",
            "    \"What payment methods are available?\": \"We accept credit/debit cards, PayPal, bank transfers, and Apple Pay.\",\n",
            "    \"Do you offer installment payments?\": \"Yes, we offer installment plans via Klarna and Afterpay for eligible purchases.\"\n",
            "  },\n",
            "  \"warranty\": {\n",
            "    \"What is the warranty on products?\": \"All products come with a 1-year limited warranty covering manufacturing defects.\",\n",
            "    \"How do I claim warranty?\": \"Contact support with your order number and issue details to start a warranty claim.\"\n",
            "  },\n",
            "  \"promotions\": {\n",
            "    \"Are there any discounts available?\": \"Current promotions are available only for the first 3 months of the contract. If you have any questions about the offer, please contact support@larna.com.\n",
            "You: exit\n",
            "Goodbye from distilgpt2!\n"
          ]
        }
      ]
    },
    {
      "cell_type": "code",
      "source": [],
      "metadata": {
        "id": "EFXJ5mKJcPP5"
      },
      "execution_count": null,
      "outputs": []
    }
  ]
}